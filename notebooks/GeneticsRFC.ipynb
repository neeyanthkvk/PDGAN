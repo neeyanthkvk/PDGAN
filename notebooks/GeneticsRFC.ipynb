{
 "cells": [
  {
   "cell_type": "code",
   "execution_count": null,
   "metadata": {},
   "outputs": [],
   "source": [
    "import pandas as pd\n",
    "import numpy as np"
   ]
  },
  {
   "cell_type": "code",
   "execution_count": null,
   "metadata": {},
   "outputs": [],
   "source": [
    "cellc = pd.read_csv(\"/data/Genetic/data/EstimateCellCounts_PPMI_EPICn524final030618.csv\")\n",
    "pat_stat = pd.read_csv(\"/data/Genetic/data/Patient_Status.csv\")\n",
    "pat_info = pd.read_csv(\"/data/Genetic/data/PPMI_Meth_n524_for_LONI030718.tsv\", delimiter='\\t')\n",
    "raw_dat = pd.read_csv(\"/data/Genetic/data/beta_post_Funnorm_PPMI_EPICn524final030618.csv\")"
   ]
  },
  {
   "cell_type": "code",
   "execution_count": null,
   "metadata": {},
   "outputs": [],
   "source": [
    "pat_numbers = list(pat_info[\"PATNO\"].astype(int))"
   ]
  },
  {
   "cell_type": "code",
   "execution_count": null,
   "metadata": {},
   "outputs": [],
   "source": [
    "is_PD = lambda id: pat_stat[pat_stat.PATNO == id][\"RECRUITMENT_CAT\"].values[0] == 'PD'\n",
    "get_sentrix = lambda id: str(pat_info[pat_info.PATNO == id][\"Sentrix ID\"].values[0]) + \"_\" + pat_info[pat_info.PATNO == id][\"Sentrix Position\"].values[0]\n",
    "getXVal_cellc = lambda id: cellc[cellc.Sentrix_position == get_sentrix(id)].values[0][1:].astype(float)\n",
    "getXVal_raw = lambda id: raw_dat[get_sentrix(id)].values"
   ]
  },
  {
   "cell_type": "code",
   "execution_count": null,
   "metadata": {},
   "outputs": [],
   "source": [
    "X = np.zeros((len(pat_numbers), 864067))\n",
    "y = np.zeros((len(pat_numbers)), dtype=int)"
   ]
  },
  {
   "cell_type": "code",
   "execution_count": null,
   "metadata": {},
   "outputs": [],
   "source": [
    "for i, number in enumerate(pat_numbers):\n",
    "    if(is_PD(number)):\n",
    "        y[i] = 1\n",
    "    X[i] = getXVal_raw(number)\n",
    "raw_dat = None\n",
    "import gc\n",
    "gc.collect()"
   ]
  },
  {
   "cell_type": "code",
   "execution_count": null,
   "metadata": {},
   "outputs": [],
   "source": [
    "from sklearn.decomposition import PCA as pca\n",
    "from sklearn.ensemble import RandomForestClassifier as rfc\n",
    "from sklearn.model_selection import train_test_split as splt\n",
    "from sklearn.metrics import accuracy_score as acc\n",
    "from sklearn.metrics import matthews_corrcoef as mcc\n",
    "\n",
    "forest = rfc(n_estimators = 1000, n_jobs = -1)\n",
    "decomp = pca(n_components=32, svd_solver='full')\n",
    "X_tr, X_ts, y_tr, y_ts = splt(X, y, test_size = 0.2, random_state = 42, stratify = y)\n",
    "decomp.fit(X_tr)\n",
    "X_tr_decomp = decomp.transform(X_tr)\n",
    "X_ts_decomp = decomp.transform(X_ts)\n",
    "forest.fit(X_tr_decomp, y_tr)\n",
    "y_ts_pred = forest.predict(X_ts_decomp)"
   ]
  },
  {
   "cell_type": "code",
   "execution_count": null,
   "metadata": {},
   "outputs": [],
   "source": [
    "acc(y_ts, y_ts_pred), mcc(y_ts, y_ts_pred)"
   ]
  },
  {
   "cell_type": "code",
   "execution_count": null,
   "metadata": {},
   "outputs": [],
   "source": [
    "decomp2 = pca(n_components=2, svd_solver='full')"
   ]
  },
  {
   "cell_type": "code",
   "execution_count": null,
   "metadata": {},
   "outputs": [],
   "source": [
    "decomp2.fit(X_tr)\n",
    "X_decomp = decomp2.transform(X)\n",
    "y"
   ]
  },
  {
   "cell_type": "code",
   "execution_count": null,
   "metadata": {},
   "outputs": [],
   "source": [
    "x1 = []\n",
    "x0 = []\n",
    "for i, x in enumerate(X_decomp):\n",
    "    if y[i] == 1:\n",
    "        x1.append(x)\n",
    "    else:\n",
    "        x0.append(x)\n",
    "x1 = np.array(x1)\n",
    "x0 = np.array(x0)"
   ]
  },
  {
   "cell_type": "code",
   "execution_count": null,
   "metadata": {},
   "outputs": [],
   "source": [
    "import matplotlib.pyplot as plt\n",
    "%matplotlib inline\n",
    "plt.plot(x1[:,0], x1[:,1], 'ro')\n",
    "plt.plot(x0[:,0], x0[:,1], 'bo')\n",
    "plt.show()"
   ]
  },
  {
   "cell_type": "code",
   "execution_count": null,
   "metadata": {},
   "outputs": [],
   "source": []
  }
 ],
 "metadata": {
  "kernelspec": {
   "display_name": "Python [conda env:Genetic] *",
   "language": "python",
   "name": "conda-env-Genetic-py"
  },
  "language_info": {
   "codemirror_mode": {
    "name": "ipython",
    "version": 3
   },
   "file_extension": ".py",
   "mimetype": "text/x-python",
   "name": "python",
   "nbconvert_exporter": "python",
   "pygments_lexer": "ipython3",
   "version": "3.7.3"
  }
 },
 "nbformat": 4,
 "nbformat_minor": 2
}
