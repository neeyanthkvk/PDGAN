{
 "cells": [
  {
   "cell_type": "code",
   "execution_count": null,
   "metadata": {
    "tags": [
     "parameters"
    ]
   },
   "outputs": [],
   "source": [
    "num_components = 16\n",
    "num_deciders = 100"
   ]
  },
  {
   "cell_type": "code",
   "execution_count": null,
   "metadata": {},
   "outputs": [],
   "source": [
    "import os\n",
    "import glob\n",
    "import pickle\n",
    "import methpype\n",
    "import pandas as pd\n",
    "import numpy as np"
   ]
  },
  {
   "cell_type": "code",
   "execution_count": null,
   "metadata": {},
   "outputs": [],
   "source": [
    "cellc = pd.read_csv(\"/data/Genetic/tab_data/EstimateCellCounts_PPMI_EPICn524final030618.csv\")\n",
    "pat_stat = pd.read_csv(\"/data/Genetic/tab_data/Patient_Status.csv\")\n",
    "pat_info = pd.read_csv(\"/data/Genetic/tab_data/PPMI_Meth_n524_for_LONI030718.tsv\", delimiter='\\t')\n",
    "raw_dat = pd.read_csv(\"/data/Genetic/tab_data/beta_post_Funnorm_PPMI_EPICn524final030618.csv\")"
   ]
  },
  {
   "cell_type": "code",
   "execution_count": null,
   "metadata": {},
   "outputs": [],
   "source": [
    "pat_numbers = list(pat_info[\"PATNO\"].astype(int))\n",
    "is_PD = lambda id: pat_stat[pat_stat.PATNO == id][\"RECRUITMENT_CAT\"].values[0] == 'PD'\n",
    "get_sentrix = lambda id: str(pat_info[pat_info.PATNO == id][\"Sentrix ID\"].values[0]) + \"_\" + pat_info[pat_info.PATNO == id][\"Sentrix Position\"].values[0]\n",
    "getXVal_cellc = lambda id: cellc[cellc.Sentrix_position == get_sentrix(id)].values[0][1:].astype(float)\n",
    "getXVal_raw = lambda id: raw_dat[get_sentrix(id)].values"
   ]
  },
  {
   "cell_type": "code",
   "execution_count": null,
   "metadata": {},
   "outputs": [],
   "source": [
    "X = np.zeros((len(pat_numbers), 864067))\n",
    "y = np.zeros((len(pat_numbers)), dtype=int)\n",
    "for i, number in enumerate(pat_numbers):\n",
    "    if(is_PD(number)):\n",
    "        y[i] = 1\n",
    "    X[i] = getXVal_raw(number)"
   ]
  },
  {
   "cell_type": "code",
   "execution_count": null,
   "metadata": {},
   "outputs": [],
   "source": [
    "from sklearn.decomposition import PCA as pca\n",
    "from sklearn.ensemble import RandomForestClassifier as rfc\n",
    "from sklearn.model_selection import train_test_split as splt\n",
    "from sklearn.metrics import accuracy_score as acc\n",
    "from sklearn.metrics import matthews_corrcoef as mcc\n",
    "\n",
    "forest = rfc(n_estimators = num_deciders, n_jobs = -1)\n",
    "decomp = pca(n_components = num_components, svd_solver='full')\n",
    "X_tr, X_ts, y_tr, y_ts = splt(X, y, test_size = 0.2, random_state = 42, stratify = y)\n",
    "decomp.fit(X_tr)\n",
    "X_tr_decomp = decomp.transform(X_tr)\n",
    "X_ts_decomp = decomp.transform(X_ts)\n",
    "forest.fit(X_tr_decomp, y_tr)\n",
    "y_ts_pred = forest.predict(X_ts_decomp)"
   ]
  },
  {
   "cell_type": "code",
   "execution_count": null,
   "metadata": {},
   "outputs": [],
   "source": [
    "with open(\"/data/Genetic/logs/forest_exp/\" + num_deciders + \"_\" + num_components + \".txt\") as f:\n",
    "    f.write('ACCRUACY: ' acc(y_ts_pred, y_ts))\n",
    "    f.write('MCC: ' mcc(y_ts_pred, y_ts))"
   ]
  },
  {
   "cell_type": "code",
   "execution_count": null,
   "metadata": {},
   "outputs": [],
   "source": []
  }
 ],
 "metadata": {
  "celltoolbar": "Tags",
  "kernelspec": {
   "display_name": "Python [conda env:Genetic]",
   "language": "python",
   "name": "conda-env-Genetic-py"
  },
  "language_info": {
   "codemirror_mode": {
    "name": "ipython",
    "version": 3
   },
   "file_extension": ".py",
   "mimetype": "text/x-python",
   "name": "python",
   "nbconvert_exporter": "python",
   "pygments_lexer": "ipython3",
   "version": "3.7.3"
  }
 },
 "nbformat": 4,
 "nbformat_minor": 2
}
