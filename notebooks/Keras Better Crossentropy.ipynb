{
 "cells": [
  {
   "cell_type": "code",
   "execution_count": 1,
   "metadata": {},
   "outputs": [
    {
     "name": "stderr",
     "output_type": "stream",
     "text": [
      "Using TensorFlow backend.\n"
     ]
    }
   ],
   "source": [
    "import keras\n",
    "from keras.models import Sequential\n",
    "from keras.layers import Dense\n",
    "import pandas as pd\n",
    "import numpy as np"
   ]
  },
  {
   "cell_type": "code",
   "execution_count": 2,
   "metadata": {},
   "outputs": [
    {
     "name": "stdout",
     "output_type": "stream",
     "text": [
      "Collecting package metadata (repodata.json): done\n",
      "Solving environment: done\n",
      "\n",
      "## Package Plan ##\n",
      "\n",
      "  environment location: /home/ubuntu/anaconda3/envs/Genetic\n",
      "\n",
      "  added / updated specs:\n",
      "    - keras-gpu\n",
      "\n",
      "\n",
      "The following packages will be downloaded:\n",
      "\n",
      "    package                    |            build\n",
      "    ---------------------------|-----------------\n",
      "    ca-certificates-2020.1.1   |                0         132 KB\n",
      "    ------------------------------------------------------------\n",
      "                                           Total:         132 KB\n",
      "\n",
      "The following packages will be UPDATED:\n",
      "\n",
      "  ca-certificates                              2019.11.27-0 --> 2020.1.1-0\n",
      "\n",
      "\n",
      "\n",
      "Downloading and Extracting Packages\n",
      "ca-certificates-2020 | 132 KB    | ##################################### | 100% \n",
      "Preparing transaction: done\n",
      "Verifying transaction: done\n",
      "Executing transaction: done\n"
     ]
    }
   ],
   "source": [
    "!conda install -y keras-gpu"
   ]
  },
  {
   "cell_type": "code",
   "execution_count": 3,
   "metadata": {},
   "outputs": [],
   "source": [
    "import keras\n",
    "from keras.models import Sequential\n",
    "from keras.layers import Dense\n",
    "import pandas as pd\n",
    "import numpy as np"
   ]
  },
  {
   "cell_type": "code",
   "execution_count": 4,
   "metadata": {},
   "outputs": [],
   "source": [
    "cellc = pd.read_csv(\"/data/Genetic/tab_data/EstimateCellCounts_PPMI_EPICn524final030618.csv\")\n",
    "pat_stat = pd.read_csv(\"/data/Genetic/tab_data/Patient_Status.csv\")\n",
    "pat_info = pd.read_csv(\"/data/Genetic/tab_data/PPMI_Meth_n524_for_LONI030718.tsv\", delimiter='\\t')\n",
    "raw_dat = pd.read_csv(\"/data/Genetic/tab_data/beta_post_Funnorm_PPMI_EPICn524final030618.csv\")"
   ]
  },
  {
   "cell_type": "code",
   "execution_count": 5,
   "metadata": {},
   "outputs": [],
   "source": [
    "pat_numbers = list(pat_info[\"PATNO\"].astype(int))"
   ]
  },
  {
   "cell_type": "code",
   "execution_count": 6,
   "metadata": {},
   "outputs": [],
   "source": [
    "is_PD = lambda id: pat_stat[pat_stat.PATNO == id][\"RECRUITMENT_CAT\"].values[0] == 'PD'\n",
    "get_sentrix = lambda id: str(pat_info[pat_info.PATNO == id][\"Sentrix ID\"].values[0]) + \"_\" + pat_info[pat_info.PATNO == id][\"Sentrix Position\"].values[0]\n",
    "getXVal_cellc = lambda id: cellc[cellc.Sentrix_position == get_sentrix(id)].values[0][1:].astype(float)\n",
    "getXVal_raw = lambda id: raw_dat[get_sentrix(id)].values"
   ]
  },
  {
   "cell_type": "code",
   "execution_count": 7,
   "metadata": {},
   "outputs": [],
   "source": [
    "X = np.zeros((len(pat_numbers), 864067))\n",
    "y = np.zeros((len(pat_numbers)), dtype=int)"
   ]
  },
  {
   "cell_type": "code",
   "execution_count": 8,
   "metadata": {},
   "outputs": [
    {
     "data": {
      "text/plain": [
       "7"
      ]
     },
     "execution_count": 8,
     "metadata": {},
     "output_type": "execute_result"
    }
   ],
   "source": [
    "for i, number in enumerate(pat_numbers):\n",
    "    if(is_PD(number)):\n",
    "        y[i] = 1\n",
    "    X[i] = getXVal_raw(number)\n",
    "raw_dat = None\n",
    "import gc\n",
    "gc.collect()"
   ]
  },
  {
   "cell_type": "code",
   "execution_count": 9,
   "metadata": {},
   "outputs": [
    {
     "data": {
      "text/plain": [
       "((524, 864067), (524,))"
      ]
     },
     "execution_count": 9,
     "metadata": {},
     "output_type": "execute_result"
    }
   ],
   "source": [
    "X.shape, y.shape"
   ]
  },
  {
   "cell_type": "code",
   "execution_count": 10,
   "metadata": {},
   "outputs": [
    {
     "name": "stdout",
     "output_type": "stream",
     "text": [
      "WARNING:tensorflow:From /home/ubuntu/anaconda3/envs/Genetic/lib/python3.7/site-packages/keras/backend/tensorflow_backend.py:74: The name tf.get_default_graph is deprecated. Please use tf.compat.v1.get_default_graph instead.\n",
      "\n"
     ]
    }
   ],
   "source": [
    "model = Sequential()"
   ]
  },
  {
   "cell_type": "code",
   "execution_count": 11,
   "metadata": {},
   "outputs": [
    {
     "name": "stdout",
     "output_type": "stream",
     "text": [
      "WARNING:tensorflow:From /home/ubuntu/anaconda3/envs/Genetic/lib/python3.7/site-packages/keras/backend/tensorflow_backend.py:517: The name tf.placeholder is deprecated. Please use tf.compat.v1.placeholder instead.\n",
      "\n",
      "WARNING:tensorflow:From /home/ubuntu/anaconda3/envs/Genetic/lib/python3.7/site-packages/keras/backend/tensorflow_backend.py:4138: The name tf.random_uniform is deprecated. Please use tf.random.uniform instead.\n",
      "\n"
     ]
    }
   ],
   "source": [
    "model.add(Dense(256, activation=\"relu\", input_shape = (864067,)))\n",
    "model.add(Dense(32, activation=\"relu\"))\n",
    "model.add(Dense(1, activation=\"softmax\"))"
   ]
  },
  {
   "cell_type": "code",
   "execution_count": 14,
   "metadata": {},
   "outputs": [
    {
     "name": "stdout",
     "output_type": "stream",
     "text": [
      "WARNING:tensorflow:From /home/ubuntu/anaconda3/envs/Genetic/lib/python3.7/site-packages/keras/optimizers.py:790: The name tf.train.Optimizer is deprecated. Please use tf.compat.v1.train.Optimizer instead.\n",
      "\n",
      "<class 'tensorflow.python.framework.ops.Tensor'>\n",
      "WARNING:tensorflow:From /home/ubuntu/anaconda3/envs/Genetic/lib/python3.7/site-packages/keras/backend/tensorflow_backend.py:3376: The name tf.log is deprecated. Please use tf.math.log instead.\n",
      "\n",
      "WARNING:tensorflow:From /home/ubuntu/anaconda3/envs/Genetic/lib/python3.7/site-packages/tensorflow/python/ops/nn_impl.py:180: add_dispatch_support.<locals>.wrapper (from tensorflow.python.ops.array_ops) is deprecated and will be removed in a future version.\n",
      "Instructions for updating:\n",
      "Use tf.where in 2.0, which has the same broadcast rule as np.where\n"
     ]
    }
   ],
   "source": [
    "model.compile(optimizer=\"adam\", loss=new_binary_crossentropy, metrics=[\"accuracy\"])"
   ]
  },
  {
   "cell_type": "code",
   "execution_count": 13,
   "metadata": {},
   "outputs": [],
   "source": [
    "def new_binary_crossentropy(y_true, y_pred):\n",
    "    print(type(y_true))\n",
    "    return keras.losses.binary_crossentropy(y_true, y_pred)"
   ]
  },
  {
   "cell_type": "code",
   "execution_count": 15,
   "metadata": {
    "scrolled": true
   },
   "outputs": [
    {
     "name": "stdout",
     "output_type": "stream",
     "text": [
      "_________________________________________________________________\n",
      "Layer (type)                 Output Shape              Param #   \n",
      "=================================================================\n",
      "dense_1 (Dense)              (None, 256)               221201408 \n",
      "_________________________________________________________________\n",
      "dense_2 (Dense)              (None, 32)                8224      \n",
      "_________________________________________________________________\n",
      "dense_3 (Dense)              (None, 1)                 33        \n",
      "=================================================================\n",
      "Total params: 221,209,665\n",
      "Trainable params: 221,209,665\n",
      "Non-trainable params: 0\n",
      "_________________________________________________________________\n"
     ]
    }
   ],
   "source": [
    "model.summary()"
   ]
  },
  {
   "cell_type": "code",
   "execution_count": 16,
   "metadata": {},
   "outputs": [],
   "source": [
    "from sklearn.model_selection import train_test_split as splt\n",
    "X_tr, X_ts, y_tr, y_ts = splt(X, y, test_size = 0.2, random_state = 42, stratify = y)"
   ]
  },
  {
   "cell_type": "code",
   "execution_count": null,
   "metadata": {},
   "outputs": [],
   "source": []
  },
  {
   "cell_type": "code",
   "execution_count": 17,
   "metadata": {
    "scrolled": true
   },
   "outputs": [
    {
     "name": "stdout",
     "output_type": "stream",
     "text": [
      "WARNING:tensorflow:From /home/ubuntu/anaconda3/envs/Genetic/lib/python3.7/site-packages/keras/backend/tensorflow_backend.py:986: The name tf.assign_add is deprecated. Please use tf.compat.v1.assign_add instead.\n",
      "\n",
      "Epoch 1/30\n",
      "419/419 [==============================] - 9s 22ms/step - loss: 4.1093 - acc: 0.7422\n",
      "Epoch 2/30\n",
      "419/419 [==============================] - 5s 12ms/step - loss: 4.1093 - acc: 0.7422\n",
      "Epoch 3/30\n",
      "419/419 [==============================] - 5s 12ms/step - loss: 4.1093 - acc: 0.7422\n",
      "Epoch 4/30\n",
      "419/419 [==============================] - 5s 12ms/step - loss: 4.1093 - acc: 0.7422\n",
      "Epoch 5/30\n",
      "419/419 [==============================] - 5s 12ms/step - loss: 4.1093 - acc: 0.7422\n",
      "Epoch 6/30\n",
      "419/419 [==============================] - 5s 12ms/step - loss: 4.1093 - acc: 0.7422\n",
      "Epoch 7/30\n",
      "419/419 [==============================] - 5s 12ms/step - loss: 4.1093 - acc: 0.7422\n",
      "Epoch 8/30\n",
      "419/419 [==============================] - 5s 12ms/step - loss: 4.1093 - acc: 0.7422\n",
      "Epoch 9/30\n",
      "419/419 [==============================] - 5s 12ms/step - loss: 4.1093 - acc: 0.7422\n",
      "Epoch 10/30\n",
      "419/419 [==============================] - 5s 12ms/step - loss: 4.1093 - acc: 0.7422\n",
      "Epoch 11/30\n",
      "419/419 [==============================] - 5s 12ms/step - loss: 4.1093 - acc: 0.7422\n",
      "Epoch 12/30\n",
      "419/419 [==============================] - 5s 12ms/step - loss: 4.1093 - acc: 0.7422\n",
      "Epoch 13/30\n",
      "419/419 [==============================] - 5s 12ms/step - loss: 4.1093 - acc: 0.7422\n",
      "Epoch 14/30\n",
      "419/419 [==============================] - 5s 12ms/step - loss: 4.1093 - acc: 0.7422\n",
      "Epoch 15/30\n",
      "419/419 [==============================] - 5s 12ms/step - loss: 4.1093 - acc: 0.7422\n",
      "Epoch 16/30\n",
      "419/419 [==============================] - 5s 12ms/step - loss: 4.1093 - acc: 0.7422\n",
      "Epoch 17/30\n",
      "419/419 [==============================] - 5s 12ms/step - loss: 4.1093 - acc: 0.7422\n",
      "Epoch 18/30\n",
      "419/419 [==============================] - 5s 12ms/step - loss: 4.1093 - acc: 0.7422\n",
      "Epoch 19/30\n",
      "419/419 [==============================] - 5s 12ms/step - loss: 4.1093 - acc: 0.7422\n",
      "Epoch 20/30\n",
      "419/419 [==============================] - 5s 12ms/step - loss: 4.1093 - acc: 0.7422\n",
      "Epoch 21/30\n",
      "419/419 [==============================] - 5s 12ms/step - loss: 4.1093 - acc: 0.7422\n",
      "Epoch 22/30\n",
      "419/419 [==============================] - 5s 12ms/step - loss: 4.1093 - acc: 0.7422\n",
      "Epoch 23/30\n",
      "419/419 [==============================] - 5s 12ms/step - loss: 4.1093 - acc: 0.7422\n",
      "Epoch 24/30\n",
      "419/419 [==============================] - 5s 12ms/step - loss: 4.1093 - acc: 0.7422\n",
      "Epoch 25/30\n",
      "419/419 [==============================] - 5s 12ms/step - loss: 4.1093 - acc: 0.7422\n",
      "Epoch 26/30\n",
      "419/419 [==============================] - 5s 12ms/step - loss: 4.1093 - acc: 0.7422\n",
      "Epoch 27/30\n",
      "419/419 [==============================] - 5s 12ms/step - loss: 4.1093 - acc: 0.7422\n",
      "Epoch 28/30\n",
      "419/419 [==============================] - 5s 12ms/step - loss: 4.1093 - acc: 0.7422\n",
      "Epoch 29/30\n",
      "419/419 [==============================] - 5s 12ms/step - loss: 4.1093 - acc: 0.7422\n",
      "Epoch 30/30\n",
      "419/419 [==============================] - 5s 12ms/step - loss: 4.1093 - acc: 0.7422\n"
     ]
    },
    {
     "data": {
      "text/plain": [
       "<keras.callbacks.History at 0x7f9d90e32320>"
      ]
     },
     "execution_count": 17,
     "metadata": {},
     "output_type": "execute_result"
    }
   ],
   "source": [
    "model.fit(X_tr, y_tr, epochs=30)"
   ]
  },
  {
   "cell_type": "code",
   "execution_count": null,
   "metadata": {},
   "outputs": [],
   "source": []
  }
 ],
 "metadata": {
  "kernelspec": {
   "display_name": "Python [conda env:Genetic]",
   "language": "python",
   "name": "conda-env-Genetic-py"
  },
  "language_info": {
   "codemirror_mode": {
    "name": "ipython",
    "version": 3
   },
   "file_extension": ".py",
   "mimetype": "text/x-python",
   "name": "python",
   "nbconvert_exporter": "python",
   "pygments_lexer": "ipython3",
   "version": "3.7.3"
  }
 },
 "nbformat": 4,
 "nbformat_minor": 2
}
