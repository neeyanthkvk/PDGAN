{
 "cells": [
  {
   "cell_type": "code",
   "execution_count": null,
   "metadata": {},
   "outputs": [],
   "source": [
    "import os\n",
    "import pickle\n",
    "import glob\n",
    "import time\n",
    "import numpy as np\n",
    "import scipy\n",
    "from scipy import misc\n",
    "import pydicom as pd\n",
    "import matplotlib.pyplot as plt\n",
    "from scipy.ndimage import zoom"
   ]
  },
  {
   "cell_type": "code",
   "execution_count": null,
   "metadata": {},
   "outputs": [],
   "source": [
    "data_PD_dir = \"/data/Imaging/Raw/PD\"\n",
    "data_Control_dir = '/data/Imaging/Raw/Control'\n",
    "output_PD_dir = \"/data/Imaging/3D/PD\"\n",
    "output_Control_dir = \"/data/Imaging/3D/Control\"\n",
    "types = ['t2', 't1', 'pd']\n",
    "pref_shape = (32, 32, 32)"
   ]
  },
  {
   "cell_type": "code",
   "execution_count": null,
   "metadata": {},
   "outputs": [],
   "source": [
    "def reshape(arr):\n",
    "    new_array = zoom(arr, (pref_shape[0]/arr.shape[0], pref_shape[1]/arr.shape[1], pref_shape[2]/arr.shape[2]))\n",
    "    return new_array"
   ]
  },
  {
   "cell_type": "code",
   "execution_count": null,
   "metadata": {},
   "outputs": [],
   "source": [
    "def gen_numpy_arrays(indir, outdir):\n",
    "    count_file = 0\n",
    "    for path in glob.iglob(os.path.join(indir,\"*/*/*/*\")):\n",
    "        _,_,_,_,_,pat,modal,date,id = tuple(path.split(\"/\"))\n",
    "        try:\n",
    "            if(len(os.listdir(path)) < 5):\n",
    "                continue\n",
    "            datShape = None\n",
    "            temp = {}\n",
    "            for file in os.listdir(path):\n",
    "                dat = pd.read_file(os.path.join(path, file))\n",
    "                echo_number = dat[0x18,0x86].value\n",
    "                if echo_number not in temp:\n",
    "                    temp[echo_number] = {}\n",
    "                temp[echo_number][int(file.split('_')[-3])] = dat.pixel_array\n",
    "                datShape = dat.pixel_array.shape\n",
    "            for echo in temp:\n",
    "                np_arr = np.zeros((*datShape, len(temp[echo])))\n",
    "                for i, (key, value) in enumerate(sorted(temp[echo].items())):\n",
    "                    np_arr[:,:,i] = value\n",
    "                new_arr = reshape(np_arr)\n",
    "                np.save(os.path.join(outdir, str(count_file) + \".npy\"), new_arr)\n",
    "                count_file += 1\n",
    "        except KeyError:\n",
    "            print(\"ERROR: \", path)"
   ]
  }
 ],
 "metadata": {
  "kernelspec": {
   "display_name": "Python [conda env:Imaging]",
   "language": "python",
   "name": "conda-env-Imaging-py"
  },
  "language_info": {
   "codemirror_mode": {
    "name": "ipython",
    "version": 3
   },
   "file_extension": ".py",
   "mimetype": "text/x-python",
   "name": "python",
   "nbconvert_exporter": "python",
   "pygments_lexer": "ipython3",
   "version": "3.6.8"
  }
 },
 "nbformat": 4,
 "nbformat_minor": 2
}
